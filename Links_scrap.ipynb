{
  "nbformat": 4,
  "nbformat_minor": 0,
  "metadata": {
    "colab": {
      "provenance": []
    },
    "kernelspec": {
      "name": "python3",
      "display_name": "Python 3"
    },
    "language_info": {
      "name": "python"
    }
  },
  "cells": [
    {
      "cell_type": "code",
      "source": [
        "pip install selenium"
      ],
      "metadata": {
        "id": "dZAdQrcb5oXP"
      },
      "execution_count": null,
      "outputs": []
    },
    {
      "cell_type": "code",
      "execution_count": 3,
      "metadata": {
        "id": "Sroz1UqQ5YGB"
      },
      "outputs": [],
      "source": [
        "from selenium import webdriver\n",
        "from bs4 import BeautifulSoup\n",
        "from googlesearch import search\n",
        "import json\n",
        "import requests\n",
        "from selenium.webdriver.common.by import By\n",
        "import time"
      ]
    },
    {
      "cell_type": "code",
      "source": [
        "\"\"\"\n",
        "This Section retrieves Youtube links from the Google search result page.\n",
        "\"\"\"\n",
        "\n",
        "batch_size = 100     #change to 1000 for 10,000 results\n",
        "num_batches = 10\n",
        "query = 'site:youtube.com openinapp.co'\n",
        "total_results = batch_size * num_batches\n",
        "results = []\n",
        "\n",
        "for batch in range(num_batches):\n",
        "    print(f\"Fetching batch {batch + 1} of {num_batches}...\")\n",
        "    start_index = batch * batch_size\n",
        "    end_index = (batch + 1) * batch_size\n",
        "\n",
        "    for metatags in search(query, num=end_index):\n",
        "        if 'youtube.com' in metatags:\n",
        "            results.append(metatags)\n",
        "        if len(results) >= end_index:\n",
        "            break\n",
        "\n",
        "    if len(results) >= total_results:\n",
        "        break\n",
        "\n",
        "\n",
        "# Save results in JSON format\n",
        "with open('youtube_links.json', 'w') as file:\n",
        "    json.dump(results, file, indent=4)\n",
        "\n",
        "print(f\"\\nScraping completed. Retrieved {len(results)} links. Results saved in 'youtube_links.json'.\")"
      ],
      "metadata": {
        "colab": {
          "base_uri": "https://localhost:8080/"
        },
        "id": "_LMhEdNf5jcR",
        "outputId": "e4b14d8f-8e65-4280-980b-788b53199409"
      },
      "execution_count": 4,
      "outputs": [
        {
          "output_type": "stream",
          "name": "stdout",
          "text": [
            "Fetching batch 1 of 10...\n",
            "Fetching batch 2 of 10...\n",
            "Fetching batch 3 of 10...\n",
            "Fetching batch 4 of 10...\n",
            "Fetching batch 5 of 10...\n",
            "Fetching batch 6 of 10...\n",
            "Fetching batch 7 of 10...\n",
            "Fetching batch 8 of 10...\n",
            "Fetching batch 9 of 10...\n",
            "Fetching batch 10 of 10...\n",
            "\n",
            "Scraping completed. Retrieved 1000 links. Results saved in 'youtube_links.json'.\n"
          ]
        }
      ]
    },
    {
      "cell_type": "code",
      "source": [
        "%%shell\n",
        "\n",
        "# Add debian buster\n",
        "cat > /etc/apt/sources.list.d/debian.list <<'EOF'\n",
        "deb [arch=amd64 signed-by=/usr/share/keyrings/debian-buster.gpg] http://deb.debian.org/debian buster main\n",
        "deb [arch=amd64 signed-by=/usr/share/keyrings/debian-buster-updates.gpg] http://deb.debian.org/debian buster-updates main\n",
        "deb [arch=amd64 signed-by=/usr/share/keyrings/debian-security-buster.gpg] http://deb.debian.org/debian-security buster/updates main\n",
        "EOF\n",
        "\n",
        "# Add keys\n",
        "apt-key adv --keyserver keyserver.ubuntu.com --recv-keys DCC9EFBF77E11517\n",
        "apt-key adv --keyserver keyserver.ubuntu.com --recv-keys 648ACFD622F3D138\n",
        "apt-key adv --keyserver keyserver.ubuntu.com --recv-keys 112695A0E562B32A\n",
        "\n",
        "apt-key export 77E11517 | gpg --dearmour -o /usr/share/keyrings/debian-buster.gpg\n",
        "apt-key export 22F3D138 | gpg --dearmour -o /usr/share/keyrings/debian-buster-updates.gpg\n",
        "apt-key export E562B32A | gpg --dearmour -o /usr/share/keyrings/debian-security-buster.gpg\n",
        "\n",
        "# Prefer debian repo for chromium* packages only\n",
        "# Note the double-blank lines between entries\n",
        "cat > /etc/apt/preferences.d/chromium.pref << 'EOF'\n",
        "Package: *\n",
        "Pin: release a=eoan\n",
        "Pin-Priority: 500\n",
        "\n",
        "\n",
        "Package: *\n",
        "Pin: origin \"deb.debian.org\"\n",
        "Pin-Priority: 300\n",
        "\n",
        "\n",
        "Package: chromium*\n",
        "Pin: origin \"deb.debian.org\"\n",
        "Pin-Priority: 700\n",
        "EOF"
      ],
      "metadata": {
        "id": "IWLtjvb46RnA"
      },
      "execution_count": null,
      "outputs": []
    },
    {
      "cell_type": "code",
      "source": [
        "!apt-get update\n",
        "!apt-get install chromium chromium-driver"
      ],
      "metadata": {
        "id": "rMGksT-x9RFF"
      },
      "execution_count": null,
      "outputs": []
    },
    {
      "cell_type": "code",
      "source": [
        "def web_driver():\n",
        "    options = webdriver.ChromeOptions()\n",
        "    options.add_argument(\"--verbose\")\n",
        "    options.add_argument('--no-sandbox')\n",
        "    options.add_argument('--headless')\n",
        "    options.add_argument('--disable-gpu')\n",
        "    options.add_argument(\"--window-size=1920, 1200\")\n",
        "    options.add_argument('--disable-dev-shm-usage')\n",
        "    driver = webdriver.Chrome(options=options)\n",
        "    return driver\n",
        "driver = web_driver()"
      ],
      "metadata": {
        "id": "TJ5pz67X9VG1"
      },
      "execution_count": 7,
      "outputs": []
    },
    {
      "cell_type": "code",
      "source": [
        "links_listed = []\n",
        "def scrap(class_name):\n",
        "  driver.get(results[i])\n",
        "  time.sleep(3)\n",
        "  soup = BeautifulSoup(driver.page_source, 'html.parser')\n",
        "  links = soup.find_all('a', class_ = class_name)\n",
        "  for link in links:\n",
        "    channel = \"https://www.youtube.com\"+link['href']\n",
        "    return channel\n",
        "\n",
        "for i in range(len(results)):\n",
        "  if results[i][-9:] == 'community':\n",
        "    results[i] = results[i][:-9]\n",
        "    links_listed.append(results[i])\n",
        "  elif '/post/' in results[i]:\n",
        "    links_listed.append(scrap('yt-simple-endpoint style-scope ytd-backstage-post-renderer'))\n",
        "  elif '/watch?' in results[i]:\n",
        "    links_listed.append(scrap('yt-simple-endpoint style-scope ytd-video-owner-renderer'))\n",
        "  else:\n",
        "    links_listed.append(results[i])\n",
        "with open('youtube_channels.json', 'w') as file:\n",
        "    json.dump(links_listed, file, indent=4)"
      ],
      "metadata": {
        "id": "MnRXuPHj9Xr1"
      },
      "execution_count": 11,
      "outputs": []
    },
    {
      "cell_type": "code",
      "source": [
        "driver.quit()"
      ],
      "metadata": {
        "id": "1chL_ROd9ZEl"
      },
      "execution_count": null,
      "outputs": []
    }
  ]
}